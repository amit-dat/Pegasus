{
 "cells": [
  {
   "cell_type": "markdown",
   "metadata": {},
   "source": [
    "### Install Libraries"
   ]
  },
  {
   "cell_type": "code",
   "execution_count": 37,
   "metadata": {},
   "outputs": [
    {
     "name": "stdout",
     "output_type": "stream",
     "text": [
      "Collecting clarifai\n",
      "\u001b[?25l  Downloading https://files.pythonhosted.org/packages/63/06/454972ef76430454c5c354b78b9352dd1e10d6111424f551c7cd28a46cdd/clarifai-2.2.3.tar.gz (49kB)\n",
      "\u001b[K    100% |████████████████████████████████| 51kB 882kB/s ta 0:00:01\n",
      "\u001b[?25hRequirement already satisfied: future<2,>=0.15 in /usr/local/lib/python3.6/site-packages (from clarifai) (0.16.0)\n",
      "Requirement already satisfied: requests<3,>=2.13 in /usr/local/lib/python3.6/site-packages (from clarifai) (2.18.4)\n",
      "Requirement already satisfied: configparser<4,>=3.5 in /usr/local/lib/python3.6/site-packages (from clarifai) (3.5.0)\n",
      "Requirement already satisfied: jsonschema<3,>=2.5 in /usr/local/lib/python3.6/site-packages (from clarifai) (2.6.0)\n",
      "Requirement already satisfied: chardet<3.1.0,>=3.0.2 in /usr/local/lib/python3.6/site-packages (from requests<3,>=2.13->clarifai) (3.0.4)\n",
      "Requirement already satisfied: idna<2.7,>=2.5 in /usr/local/lib/python3.6/site-packages (from requests<3,>=2.13->clarifai) (2.5)\n",
      "Requirement already satisfied: certifi>=2017.4.17 in /usr/local/lib/python3.6/site-packages (from requests<3,>=2.13->clarifai) (2017.7.27.1)\n",
      "Requirement already satisfied: urllib3<1.23,>=1.21.1 in /usr/local/lib/python3.6/site-packages (from requests<3,>=2.13->clarifai) (1.22)\n",
      "Building wheels for collected packages: clarifai\n",
      "  Running setup.py bdist_wheel for clarifai ... \u001b[?25ldone\n",
      "\u001b[?25h  Stored in directory: /Users/Dungeoun/Library/Caches/pip/wheels/1c/4c/43/637377dbf8781ae70cbdb515fe865c56e19ec313f4f9acae29\n",
      "Successfully built clarifai\n",
      "\u001b[31mspacy 2.0.10 has requirement html5lib==1.0b8, but you'll have html5lib 0.9999999 which is incompatible.\u001b[0m\n",
      "\u001b[31mproto-google-cloud-logging-v2 0.91.3 has requirement oauth2client<4.0dev,>=2.0.0, but you'll have oauth2client 4.1.2 which is incompatible.\u001b[0m\n",
      "\u001b[31mproto-google-cloud-error-reporting-v1beta1 0.15.3 has requirement oauth2client<4.0dev,>=2.0.0, but you'll have oauth2client 4.1.2 which is incompatible.\u001b[0m\n",
      "\u001b[31mproto-google-cloud-datastore-v1 0.90.4 has requirement oauth2client<4.0dev,>=2.0.0, but you'll have oauth2client 4.1.2 which is incompatible.\u001b[0m\n",
      "\u001b[31mplotnine 0.3.0 has requirement matplotlib>=2.1.0, but you'll have matplotlib 2.0.2 which is incompatible.\u001b[0m\n",
      "\u001b[31mplotnine 0.3.0 has requirement pandas>=0.21.0, but you'll have pandas 0.20.2 which is incompatible.\u001b[0m\n",
      "\u001b[31mplotnine 0.3.0 has requirement scipy>=1.0.0, but you'll have scipy 0.19.1 which is incompatible.\u001b[0m\n",
      "\u001b[31mmizani 0.4.6 has requirement pandas>=0.21.0, but you'll have pandas 0.20.2 which is incompatible.\u001b[0m\n",
      "\u001b[31mgapic-google-cloud-logging-v2 0.91.3 has requirement oauth2client<4.0dev,>=2.0.0, but you'll have oauth2client 4.1.2 which is incompatible.\u001b[0m\n",
      "\u001b[31mgapic-google-cloud-error-reporting-v1beta1 0.15.3 has requirement oauth2client<4.0dev,>=2.0.0, but you'll have oauth2client 4.1.2 which is incompatible.\u001b[0m\n",
      "\u001b[31mgapic-google-cloud-datastore-v1 0.15.3 has requirement oauth2client<4.0dev,>=2.0.0, but you'll have oauth2client 4.1.2 which is incompatible.\u001b[0m\n",
      "Installing collected packages: clarifai\n",
      "Successfully installed clarifai-2.2.3\n"
     ]
    }
   ],
   "source": [
    "!pip3 install clarifai"
   ]
  },
  {
   "cell_type": "code",
   "execution_count": 6,
   "metadata": {
    "collapsed": true
   },
   "outputs": [],
   "source": [
    "from instalooter.looters import ProfileLooter\n",
    "import argparse\n",
    "import datetime\n",
    "import os"
   ]
  },
  {
   "cell_type": "markdown",
   "metadata": {},
   "source": [
    "### Definitions"
   ]
  },
  {
   "cell_type": "code",
   "execution_count": 7,
   "metadata": {
    "collapsed": true
   },
   "outputs": [],
   "source": [
    "def scrape_images(profile, num, startdate, enddate):\n",
    "    output = 'images_'+str(startdate)+ '_' +str(enddate)\n",
    "    looter = ProfileLooter(profile)\n",
    "    if not os.path.exists(output):\n",
    "        os.makedirs(output)\n",
    "    looter.download('~/output_primary/', media_count=num, timeframe=(startdate, enddate))"
   ]
  },
  {
   "cell_type": "markdown",
   "metadata": {},
   "source": [
    "### Main function"
   ]
  },
  {
   "cell_type": "code",
   "execution_count": null,
   "metadata": {
    "collapsed": true
   },
   "outputs": [],
   "source": [
    "if __name__ == \"__main__\":\n",
    "    \n",
    "    parser = argparse.ArgumentParser()\n",
    "    parser.add_argument('-p','--profile', help='specify Instagram profile name')\n",
    "    parser.add_argument('-n','--num', help='specify num of images to download')\n",
    "    parser.add_argument('-s','--startdate', help='specify startdate')\n",
    "    parser.add_argument('-e','--enddate', help='specify enddate')\n",
    "    \n",
    "    \n",
    "    args = parser.parse_args()\n",
    "    \n",
    "    profile = args.profile\n",
    "    num = args.num\n",
    "    startdate = args.startdate\n",
    "    enddate = args.enddate\n",
    "    \n",
    "    format1 = '%Y-%m-%d'\n",
    "    startdate = datetime.datetime.strptime(startdate, format1).date()\n",
    "    enddate = datetime.datetime.strptime(enddate, format1).date()\n",
    "     \n",
    "    scrape_images(30, startdate, enddate)\n"
   ]
  },
  {
   "cell_type": "code",
   "execution_count": 65,
   "metadata": {},
   "outputs": [
    {
     "name": "stdout",
     "output_type": "stream",
     "text": [
      "starting download.....\n",
      "Download Complete!\n"
     ]
    }
   ],
   "source": [
    "!python3 unlimited_scraper.py -p \"katelynkpearce\" -n 30 -s '2018-03-09' -e '2017-03-09' -m 0"
   ]
  },
  {
   "cell_type": "markdown",
   "metadata": {},
   "source": [
    "### Working Piece of Code (Template for Scraper)"
   ]
  },
  {
   "cell_type": "code",
   "execution_count": 31,
   "metadata": {},
   "outputs": [
    {
     "data": {
      "text/plain": [
       "50"
      ]
     },
     "execution_count": 31,
     "metadata": {},
     "output_type": "execute_result"
    }
   ],
   "source": [
    "startdate='2018-03-09'\n",
    "enddate='2017-03-09'\n",
    "format1 = '%Y-%m-%d'\n",
    "enddate = datetime.datetime.strptime(enddate, format1).date()\n",
    "startdate = datetime.datetime.strptime(startdate, format1).date()\n",
    "#(startdate,enddate)\n",
    "\n",
    "from instalooter.looters import ProfileLooter\n",
    "looter = ProfileLooter(\"dreamwifetheband\")\n",
    "looter.download('./output', media_count=50, timeframe=(startdate, enddate))"
   ]
  },
  {
   "cell_type": "markdown",
   "metadata": {},
   "source": [
    "### Complete python Script"
   ]
  },
  {
   "cell_type": "code",
   "execution_count": null,
   "metadata": {
    "collapsed": true
   },
   "outputs": [],
   "source": [
    "from instalooter.looters import ProfileLooter\n",
    "import argparse\n",
    "import datetime\n",
    "import os\n",
    "\n",
    "def scrape_images(profile, num, startdate, enddate):\n",
    "    output = 'images_'+str(startdate)+ '_' +str(enddate)\n",
    "    looter = ProfileLooter(profile)\n",
    "    if not os.path.exists(output):\n",
    "        os.makedirs(output)\n",
    "    looter.download(output, media_count=int(num), timeframe=(startdate, enddate))\n",
    "    \n",
    "if __name__ == \"__main__\":\n",
    "    \n",
    "    parser = argparse.ArgumentParser()\n",
    "    parser.add_argument('-p','--profile', help='specify Instagram profile name')\n",
    "    parser.add_argument('-n','--num', help='specify num of images to download')\n",
    "    parser.add_argument('-s','--startdate', help='specify startdate')\n",
    "    parser.add_argument('-e','--enddate', help='specify enddate')\n",
    "    \n",
    "    \n",
    "    args = parser.parse_args()\n",
    "    \n",
    "    profile = args.profile\n",
    "    num = args.num\n",
    "    startdate = args.startdate\n",
    "    enddate = args.enddate\n",
    "    \n",
    "    print(startdate)\n",
    "    print(enddate)\n",
    "    \n",
    "    format1 = '%Y-%m-%d'\n",
    "    startdate = datetime.datetime.strptime(startdate, format1).date()\n",
    "    enddate = datetime.datetime.strptime(enddate, format1).date()\n",
    "     \n",
    "    #scrape_images(profile, num, startdate, enddate)"
   ]
  },
  {
   "cell_type": "code",
   "execution_count": 25,
   "metadata": {},
   "outputs": [
    {
     "data": {
      "text/plain": [
       "(datetime.date(2017, 3, 9), datetime.date(2018, 3, 9))"
      ]
     },
     "execution_count": 25,
     "metadata": {},
     "output_type": "execute_result"
    }
   ],
   "source": [
    "startdate='2017-03-09'\n",
    "enddate='2018-03-09'\n",
    "format1 = '%Y-%m-%d'\n",
    "enddate = datetime.datetime.strptime(enddate, format1).date()\n",
    "startdate = datetime.datetime.strptime(startdate, format1).date()\n",
    "(startdate,enddate)"
   ]
  },
  {
   "cell_type": "code",
   "execution_count": 26,
   "metadata": {},
   "outputs": [
    {
     "data": {
      "text/plain": [
       "datetime.date(2018, 7, 21)"
      ]
     },
     "execution_count": 26,
     "metadata": {},
     "output_type": "execute_result"
    }
   ],
   "source": [
    "datetime.date.today()"
   ]
  },
  {
   "cell_type": "code",
   "execution_count": 29,
   "metadata": {
    "collapsed": true
   },
   "outputs": [],
   "source": [
    "timeframe=(startdate, enddate)"
   ]
  },
  {
   "cell_type": "code",
   "execution_count": 30,
   "metadata": {},
   "outputs": [
    {
     "data": {
      "text/plain": [
       "datetime.date(2017, 3, 9)"
      ]
     },
     "execution_count": 30,
     "metadata": {},
     "output_type": "execute_result"
    }
   ],
   "source": [
    "timeframe[0]"
   ]
  },
  {
   "cell_type": "code",
   "execution_count": null,
   "metadata": {
    "collapsed": true
   },
   "outputs": [],
   "source": []
  }
 ],
 "metadata": {
  "kernelspec": {
   "display_name": "Python 3",
   "language": "python",
   "name": "python3"
  },
  "language_info": {
   "codemirror_mode": {
    "name": "ipython",
    "version": 3
   },
   "file_extension": ".py",
   "mimetype": "text/x-python",
   "name": "python",
   "nbconvert_exporter": "python",
   "pygments_lexer": "ipython3",
   "version": "3.6.5"
  }
 },
 "nbformat": 4,
 "nbformat_minor": 2
}
